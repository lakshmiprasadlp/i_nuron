{
 "cells": [
  {
   "cell_type": "markdown",
   "id": "bc197657",
   "metadata": {},
   "source": [
    "# 1. Explain what inheritance is in object-oriented programming and why it is used."
   ]
  },
  {
   "cell_type": "raw",
   "id": "0d237910",
   "metadata": {},
   "source": [
    "Inheritance is a fundamental concept in object-oriented programming (OOP) that allows a class to inherit properties and behaviors from another class. It enables the creation of a new class (called a derived or child class) based on an existing class (called a base or parent class). The child class inherits attributes and methods from the parent class, and it can also have its own additional attributes and methods or override existing ones."
   ]
  },
  {
   "cell_type": "raw",
   "id": "04cfeb49",
   "metadata": {},
   "source": [
    "Reusability: Inheritance promotes code reusability by allowing the child class to inherit the properties and behaviors of the parent class. This reduces code duplication and makes it easier to maintain and update the codebase."
   ]
  },
  {
   "cell_type": "markdown",
   "id": "a399f042",
   "metadata": {},
   "source": [
    "# 2 Discuss the concept of single inheritance and multiple inheritance, highlighting their differences and advantages."
   ]
  },
  {
   "cell_type": "raw",
   "id": "6230d98c",
   "metadata": {},
   "source": [
    "Single inheritance and multiple inheritance are two approaches to class inheritance in object-oriented programming (OOP). They differ in how classes can inherit from other classes, and each approach has its own advantages and potential drawbacks.\n",
    "\n",
    "Single Inheritance:\n",
    "Definition:\n",
    "\n",
    "In single inheritance, a class can inherit from only one parent class.\n",
    "Each class forms a linear hierarchy, where each derived class has exactly one base class.\n",
    "Example:\n",
    "Advantages:\n",
    "\n",
    "Simplicity:\n",
    "Easier Maintenance: \n",
    "Reduced Complexity: "
   ]
  },
  {
   "cell_type": "code",
   "execution_count": 1,
   "id": "b18aab87",
   "metadata": {},
   "outputs": [],
   "source": [
    "class Animal:\n",
    "    def speak(self):\n",
    "        print(\"Animal speaks\")\n",
    "\n",
    "class Dog(Animal):\n",
    "    def bark(self):\n",
    "        print(\"Dog barks\")\n"
   ]
  },
  {
   "cell_type": "raw",
   "id": "ea686b85",
   "metadata": {},
   "source": [
    "Multiple Inheritance:\n",
    "Definition:\n",
    "\n",
    "In multiple inheritance, a class can inherit from more than one parent class.\n",
    "This creates a more complex class hierarchy, where a derived class can have multiple base classes.\n",
    "Example"
   ]
  },
  {
   "cell_type": "code",
   "execution_count": 2,
   "id": "ad5bf239",
   "metadata": {},
   "outputs": [],
   "source": [
    "class Bird:\n",
    "    def fly(self):\n",
    "        print(\"Bird can fly\")\n",
    "\n",
    "class Dog:\n",
    "    def bark(self):\n",
    "        print(\"Dog barks\")\n",
    "\n",
    "class DogBird(Dog, Bird):\n",
    "    pass\n"
   ]
  },
  {
   "cell_type": "markdown",
   "id": "621b0e44",
   "metadata": {},
   "source": [
    "# 3. Explain the terms \"base class\" and \"derived class\" in the context of inheritance."
   ]
  },
  {
   "cell_type": "raw",
   "id": "8d65fe10",
   "metadata": {},
   "source": [
    "1. **Base Class (Parent Class):**\n",
    "   - The base class is the class whose properties and behaviors are inherited by another class.\n",
    "   - It serves as a template or blueprint for the creation of a new class.\n",
    "   - The base class encapsulates common functionality that can be shared among multiple classes.\n",
    "   - Instances of the base class can exist on their own, and they don't rely on any other class for their definition.\n",
    "\n",
    "   **Example:**\n",
    "   ```python\n",
    "   class Animal:\n",
    "       def speak(self):\n",
    "           print(\"Animal speaks\")\n",
    "   ```\n",
    "\n",
    "2. **Derived Class (Child Class):**\n",
    "   - The derived class is the class that inherits from another class (the base class).\n",
    "   - It is created based on an existing class, and it can reuse and extend the attributes and methods of the base class.\n",
    "   - The derived class can also have its own additional attributes and methods or override existing ones.\n",
    "   - Instances of the derived class inherit the properties and behaviors of both the base class and the derived class itself.\n",
    "\n",
    "   **Example:**\n",
    "   ```python\n",
    "   class Dog(Animal):\n",
    "       def bark(self):\n",
    "           print(\"Dog barks\")\n",
    "   ```"
   ]
  },
  {
   "cell_type": "markdown",
   "id": "963aee76",
   "metadata": {},
   "source": [
    "# 4 What is the significance of the \"protected\" access modifier in inheritance? How does it differ from \"private\" and \"public\" modifiers?"
   ]
  },
  {
   "cell_type": "markdown",
   "id": "e65eeea9",
   "metadata": {},
   "source": [
    "In object-oriented programming, access modifiers (also known as access specifiers) control the visibility of class members (attributes and methods) within a class hierarchy. In many programming languages like Python, C++, and Java, there are three primary access modifiers: public, private, and protected. The significance of the \"protected\" access modifier in the context of inheritance lies in the level of visibility it provides to class members. Let's discuss each access modifier and their differences:\n",
    "\n",
    "1. **Public Access Modifier:**\n",
    "   - Members declared as public are accessible from any part of the program.\n",
    "   - There are no restrictions on accessing public members from outside the class, including in subclasses.\n",
    "   - Public members are part of the class's public interface, and their behavior can be relied upon by external code.\n",
    "\n",
    "   ```python\n",
    "   class Example:\n",
    "       public_member = \"I am public\"\n",
    "\n",
    "   obj = Example()\n",
    "   print(obj.public_member)  # Accessible from outside the class\n",
    "   ```\n",
    "\n",
    "2. **Private Access Modifier:**\n",
    "   - Members declared as private are only accessible within the class where they are defined.\n",
    "   - Private members are not directly accessible from outside the class or in subclasses.\n",
    "   - Encapsulation is enforced as private members are hidden from external access, and access is typically provided through getter and setter methods.\n",
    "\n",
    "   ```python\n",
    "   class Example:\n",
    "       def __init__(self):\n",
    "           self.__private_member = \"I am private\"\n",
    "\n",
    "   obj = Example()\n",
    "   # This will result in an error\n",
    "   # print(obj.__private_member)\n",
    "   ```\n",
    "\n",
    "3. **Protected Access Modifier:**\n",
    "   - Members declared as protected are accessible within the class and its subclasses (derived or child classes).\n",
    "   - Protected members are not directly accessible from outside the class hierarchy.\n",
    "   - While protected members are not as restrictive as private members, they provide a level of encapsulation by limiting access to subclasses.\n",
    "\n",
    "   ```python\n",
    "   class Example:\n",
    "       def __init__(self):\n",
    "           self._protected_member = \"I am protected\"\n",
    "\n",
    "   class SubExample(Example):\n",
    "       def display_protected_member(self):\n",
    "           print(self._protected_member)\n",
    "\n",
    "   obj = SubExample()\n",
    "   obj.display_protected_member()  # Accessible in a subclass\n"
   ]
  },
  {
   "cell_type": "markdown",
   "id": "d5419303",
   "metadata": {},
   "source": [
    "# 5. What is the purpose of the \"super\" keyword in inheritance? Provide an example."
   ]
  },
  {
   "cell_type": "code",
   "execution_count": 3,
   "id": "af179fc2",
   "metadata": {},
   "outputs": [
    {
     "name": "stdout",
     "output_type": "stream",
     "text": [
      "Buddy makes a sound\n",
      "Buddy barks loudly\n"
     ]
    }
   ],
   "source": [
    "class Animal:\n",
    "    def __init__(self, name):\n",
    "        self.name = name\n",
    "\n",
    "    def speak(self):\n",
    "        print(f\"{self.name} makes a sound\")\n",
    "\n",
    "class Dog(Animal):\n",
    "    def __init__(self, name, breed):\n",
    "        # Calling the constructor of the parent class using super()\n",
    "        super().__init__(name)\n",
    "        self.breed = breed\n",
    "\n",
    "    def speak(self):\n",
    "        # Calling the overridden method in the parent class using super()\n",
    "        super().speak()\n",
    "        print(f\"{self.name} barks loudly\")\n",
    "\n",
    "# Creating an instance of the Dog class\n",
    "my_dog = Dog(name=\"Buddy\", breed=\"Golden Retriever\")\n",
    "\n",
    "# Calling the speak method of the Dog class\n",
    "my_dog.speak()\n"
   ]
  },
  {
   "cell_type": "markdown",
   "id": "ff9d6d60",
   "metadata": {},
   "source": [
    "# 6. Create a base class called \"Vehicle\" with attributes like \"make\", \"model\", and \"year\".Then, create a derived class called \"Car\" that inherits from \"Vehicle\" and adds an attribute called \"fuel_type\". Implement appropriate methods in both classes."
   ]
  },
  {
   "cell_type": "code",
   "execution_count": 4,
   "id": "e08ca841",
   "metadata": {},
   "outputs": [
    {
     "name": "stdout",
     "output_type": "stream",
     "text": [
      "2022 Toyota Camry\n",
      "Fuel Type: Gasoline\n"
     ]
    }
   ],
   "source": [
    "class Vehicle:\n",
    "    def __init__(self, make, model, year):\n",
    "        self.make = make\n",
    "        self.model = model\n",
    "        self.year = year\n",
    "\n",
    "    def display_info(self):\n",
    "        print(f\"{self.year} {self.make} {self.model}\")\n",
    "\n",
    "class Car(Vehicle):\n",
    "    def __init__(self, make, model, year, fuel_type):\n",
    "        # Calling the constructor of the parent class (Vehicle) using super()\n",
    "        super().__init__(make, model, year)\n",
    "        self.fuel_type = fuel_type\n",
    "\n",
    "    def display_info(self):\n",
    "        # Calling the overridden method in the parent class (Vehicle) using super()\n",
    "        super().display_info()\n",
    "        print(f\"Fuel Type: {self.fuel_type}\")\n",
    "\n",
    "# Creating an instance of the Car class\n",
    "my_car = Car(make=\"Toyota\", model=\"Camry\", year=2022, fuel_type=\"Gasoline\")\n",
    "\n",
    "# Calling the display_info method of the Car class\n",
    "my_car.display_info()\n"
   ]
  },
  {
   "cell_type": "markdown",
   "id": "4a62ffdf",
   "metadata": {},
   "source": [
    "# 7. Create a base class called \"Employee\" with attributes like \"name\" and \"salary.\" Derive two classes, \"Manager\" and \"Developer,\" from \"Employee.\" Add an additional attribute called \"department\" for the \"Manager\" class and \"programming_language\" for the \"Developer\" class."
   ]
  },
  {
   "cell_type": "code",
   "execution_count": 5,
   "id": "608e1cfb",
   "metadata": {},
   "outputs": [
    {
     "name": "stdout",
     "output_type": "stream",
     "text": [
      "Name: John Manager, Salary: $80000\n",
      "Department: Engineering\n",
      "Name: Alice Developer, Salary: $60000\n",
      "Programming Language: Python\n"
     ]
    }
   ],
   "source": [
    "class Employee:\n",
    "    def __init__(self, name, salary):\n",
    "        self.name = name\n",
    "        self.salary = salary\n",
    "\n",
    "    def display_info(self):\n",
    "        print(f\"Name: {self.name}, Salary: ${self.salary}\")\n",
    "\n",
    "class Manager(Employee):\n",
    "    def __init__(self, name, salary, department):\n",
    "        # Calling the constructor of the parent class (Employee) using super()\n",
    "        super().__init__(name, salary)\n",
    "        self.department = department\n",
    "\n",
    "    def display_info(self):\n",
    "        # Calling the overridden method in the parent class (Employee) using super()\n",
    "        super().display_info()\n",
    "        print(f\"Department: {self.department}\")\n",
    "\n",
    "class Developer(Employee):\n",
    "    def __init__(self, name, salary, programming_language):\n",
    "        # Calling the constructor of the parent class (Employee) using super()\n",
    "        super().__init__(name, salary)\n",
    "        self.programming_language = programming_language\n",
    "\n",
    "    def display_info(self):\n",
    "        # Calling the overridden method in the parent class (Employee) using super()\n",
    "        super().display_info()\n",
    "        print(f\"Programming Language: {self.programming_language}\")\n",
    "\n",
    "# Creating instances of the Manager and Developer classes\n",
    "manager_instance = Manager(name=\"John Manager\", salary=80000, department=\"Engineering\")\n",
    "developer_instance = Developer(name=\"Alice Developer\", salary=60000, programming_language=\"Python\")\n",
    "\n",
    "# Calling the display_info method for both instances\n",
    "manager_instance.display_info()\n",
    "developer_instance.display_info()\n"
   ]
  },
  {
   "cell_type": "markdown",
   "id": "738501ac",
   "metadata": {},
   "source": [
    "# 8. Design a base class called \"Shape\" with attributes like \"colour\" and \"border_width.\" Create derived classes, \"Rectangle\" and \"Circle,\" that inherit from \"Shape\" and add specific attributes like \"length\" and \"width\" for the \"Rectangle\" class and \"radius\" for the \"Circle\" class."
   ]
  },
  {
   "cell_type": "code",
   "execution_count": 6,
   "id": "33b31c7b",
   "metadata": {},
   "outputs": [
    {
     "name": "stdout",
     "output_type": "stream",
     "text": [
      "Colour: Blue, Border Width: 2\n",
      "Length: 5, Width: 3\n",
      "Colour: Red, Border Width: 1\n",
      "Radius: 4\n"
     ]
    }
   ],
   "source": [
    "class Shape:\n",
    "    def __init__(self, colour, border_width):\n",
    "        self.colour = colour\n",
    "        self.border_width = border_width\n",
    "\n",
    "    def display_info(self):\n",
    "        print(f\"Colour: {self.colour}, Border Width: {self.border_width}\")\n",
    "\n",
    "class Rectangle(Shape):\n",
    "    def __init__(self, colour, border_width, length, width):\n",
    "        # Calling the constructor of the parent class (Shape) using super()\n",
    "        super().__init__(colour, border_width)\n",
    "        self.length = length\n",
    "        self.width = width\n",
    "\n",
    "    def display_info(self):\n",
    "        # Calling the overridden method in the parent class (Shape) using super()\n",
    "        super().display_info()\n",
    "        print(f\"Length: {self.length}, Width: {self.width}\")\n",
    "\n",
    "class Circle(Shape):\n",
    "    def __init__(self, colour, border_width, radius):\n",
    "        # Calling the constructor of the parent class (Shape) using super()\n",
    "        super().__init__(colour, border_width)\n",
    "        self.radius = radius\n",
    "\n",
    "    def display_info(self):\n",
    "        # Calling the overridden method in the parent class (Shape) using super()\n",
    "        super().display_info()\n",
    "        print(f\"Radius: {self.radius}\")\n",
    "\n",
    "# Creating instances of the Rectangle and Circle classes\n",
    "rectangle_instance = Rectangle(colour=\"Blue\", border_width=2, length=5, width=3)\n",
    "circle_instance = Circle(colour=\"Red\", border_width=1, radius=4)\n",
    "\n",
    "# Calling the display_info method for both instances\n",
    "rectangle_instance.display_info()\n",
    "circle_instance.display_info()\n"
   ]
  },
  {
   "cell_type": "markdown",
   "id": "934200c0",
   "metadata": {},
   "source": [
    "# 9. Create a base class called \"Device\" with attributes like \"brand\" and \"model.\" Derive two classes, \"Phone\" and \"Tablet,\" from \"Device.\" Add specific attributes like \"screen_size\" for the \"Phone\" class and \"battery_capacity\" for the \"Tablet\" class."
   ]
  },
  {
   "cell_type": "code",
   "execution_count": 7,
   "id": "df16f1bf",
   "metadata": {},
   "outputs": [
    {
     "name": "stdout",
     "output_type": "stream",
     "text": [
      "Brand: Apple, Model: iPhone 13\n",
      "Screen Size: 6.1 inches\n",
      "Brand: Samsung, Model: Galaxy Tab S7\n",
      "Battery Capacity: 8000 mAh\n"
     ]
    }
   ],
   "source": [
    "class Device:\n",
    "    def __init__(self, brand, model):\n",
    "        self.brand = brand\n",
    "        self.model = model\n",
    "\n",
    "    def display_info(self):\n",
    "        print(f\"Brand: {self.brand}, Model: {self.model}\")\n",
    "\n",
    "class Phone(Device):\n",
    "    def __init__(self, brand, model, screen_size):\n",
    "        # Calling the constructor of the parent class (Device) using super()\n",
    "        super().__init__(brand, model)\n",
    "        self.screen_size = screen_size\n",
    "\n",
    "    def display_info(self):\n",
    "        # Calling the overridden method in the parent class (Device) using super()\n",
    "        super().display_info()\n",
    "        print(f\"Screen Size: {self.screen_size}\")\n",
    "\n",
    "class Tablet(Device):\n",
    "    def __init__(self, brand, model, battery_capacity):\n",
    "        # Calling the constructor of the parent class (Device) using super()\n",
    "        super().__init__(brand, model)\n",
    "        self.battery_capacity = battery_capacity\n",
    "\n",
    "    def display_info(self):\n",
    "        # Calling the overridden method in the parent class (Device) using super()\n",
    "        super().display_info()\n",
    "        print(f\"Battery Capacity: {self.battery_capacity}\")\n",
    "\n",
    "# Creating instances of the Phone and Tablet classes\n",
    "phone_instance = Phone(brand=\"Apple\", model=\"iPhone 13\", screen_size=\"6.1 inches\")\n",
    "tablet_instance = Tablet(brand=\"Samsung\", model=\"Galaxy Tab S7\", battery_capacity=\"8000 mAh\")\n",
    "\n",
    "# Calling the display_info method for both instances\n",
    "phone_instance.display_info()\n",
    "tablet_instance.display_info()\n"
   ]
  },
  {
   "cell_type": "markdown",
   "id": "f2e51c6f",
   "metadata": {},
   "source": [
    "# 10. Create a base class called \"BankAccount\" with attributes like \"account_number\" and \"balance.\" Derive two classes, \"SavingsAccount\" and \"CheckingAccount,\" from \"BankAccount.\" Add specific methods like \"calculate_interest\" for the\"SavingsAccount\" class and \"deduct_fees\" for the \"CheckingAccount\" class."
   ]
  },
  {
   "cell_type": "code",
   "execution_count": 8,
   "id": "6ff6aded",
   "metadata": {},
   "outputs": [
    {
     "name": "stdout",
     "output_type": "stream",
     "text": [
      "Interest calculated: $20.0\n",
      "Fees deducted: $20\n",
      "Account Number: SA123, Balance: $1020.0\n",
      "Account Number: CA456, Balance: $1480\n"
     ]
    }
   ],
   "source": [
    "class BankAccount:\n",
    "    def __init__(self, account_number, balance):\n",
    "        self.account_number = account_number\n",
    "        self.balance = balance\n",
    "\n",
    "    def display_info(self):\n",
    "        print(f\"Account Number: {self.account_number}, Balance: ${self.balance}\")\n",
    "\n",
    "class SavingsAccount(BankAccount):\n",
    "    def calculate_interest(self, interest_rate):\n",
    "        interest = self.balance * interest_rate\n",
    "        self.balance += interest\n",
    "        print(f\"Interest calculated: ${interest}\")\n",
    "\n",
    "class CheckingAccount(BankAccount):\n",
    "    def deduct_fees(self, fee_amount):\n",
    "        if self.balance >= fee_amount:\n",
    "            self.balance -= fee_amount\n",
    "            print(f\"Fees deducted: ${fee_amount}\")\n",
    "        else:\n",
    "            print(\"Insufficient balance to deduct fees\")\n",
    "\n",
    "# Creating instances of the SavingsAccount and CheckingAccount classes\n",
    "savings_account_instance = SavingsAccount(account_number=\"SA123\", balance=1000)\n",
    "checking_account_instance = CheckingAccount(account_number=\"CA456\", balance=1500)\n",
    "\n",
    "# Calling methods for both instances\n",
    "savings_account_instance.calculate_interest(interest_rate=0.02)\n",
    "checking_account_instance.deduct_fees(fee_amount=20)\n",
    "\n",
    "# Displaying information for both instances\n",
    "savings_account_instance.display_info()\n",
    "checking_account_instance.display_info()\n"
   ]
  },
  {
   "cell_type": "code",
   "execution_count": null,
   "id": "de610f38",
   "metadata": {},
   "outputs": [],
   "source": []
  }
 ],
 "metadata": {
  "kernelspec": {
   "display_name": "Python 3 (ipykernel)",
   "language": "python",
   "name": "python3"
  },
  "language_info": {
   "codemirror_mode": {
    "name": "ipython",
    "version": 3
   },
   "file_extension": ".py",
   "mimetype": "text/x-python",
   "name": "python",
   "nbconvert_exporter": "python",
   "pygments_lexer": "ipython3",
   "version": "3.11.3"
  }
 },
 "nbformat": 4,
 "nbformat_minor": 5
}
