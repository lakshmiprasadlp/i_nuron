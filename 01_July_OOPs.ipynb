{
 "cells": [
  {
   "cell_type": "markdown",
   "id": "95c5fad4",
   "metadata": {},
   "source": [
    "# What is the primary goal of Object-Oriented Programming (OOP)?"
   ]
  },
  {
   "cell_type": "markdown",
   "id": "8e8396ae",
   "metadata": {},
   "source": [
    "\n",
    "\n",
    "1. **Encapsulation:** This principle involves bundling the data (attributes) and the methods (functions) that operate on the data into a single unit called a class. Encapsulation helps in hiding the internal details of how an object works and exposing only what is necessary.\n",
    "\n",
    "2. **Inheritance:** Inheritance allows a new class (subclass or derived class) to inherit the characteristics and behaviors of an existing class (base class or parent class). This promotes code reuse and helps create a hierarchy of classes with shared attributes and methods.\n",
    "\n",
    "3. **Polymorphism:** Polymorphism allows objects of different classes to be treated as objects of a common base class. It enables a single interface to represent different types of objects and allows for flexibility in the design of software.\n",
    "\n",
    "4. **Abstraction:** Abstraction involves simplifying complex systems by modeling classes based on their essential characteristics. It allows developers to focus on relevant details while ignoring unnecessary complexities.\n",
    "\n",
    "5. **class:** it is an blueprint or logical entity\n",
    "\n",
    "6. **object:** it is an instantence of class or physical existince of class"
   ]
  },
  {
   "cell_type": "markdown",
   "id": "55918fff",
   "metadata": {},
   "source": [
    "# 2. What is an object in Python?"
   ]
  },
  {
   "cell_type": "markdown",
   "id": "09398cb3",
   "metadata": {},
   "source": [
    "object: it is an instantence of class or physical existince of class"
   ]
  },
  {
   "cell_type": "markdown",
   "id": "50c5d078",
   "metadata": {},
   "source": [
    "# 3. What is a class in Python?"
   ]
  },
  {
   "cell_type": "markdown",
   "id": "9caa73ab",
   "metadata": {},
   "source": [
    "class: it is an blueprint or logical entity"
   ]
  },
  {
   "cell_type": "code",
   "execution_count": 5,
   "id": "d8204781",
   "metadata": {},
   "outputs": [
    {
     "name": "stdout",
     "output_type": "stream",
     "text": [
      "Car 1: 2022 Blue Toyota\n",
      "Car 2: 2021 Red Ford\n",
      "The 2022 Blue Toyota's engine is running.\n",
      "The 2021 Red Ford's engine is running.\n"
     ]
    }
   ],
   "source": [
    "class Car:\n",
    "    def __init__(self, color, model, year):\n",
    "        self.color = color\n",
    "        self.model = model\n",
    "        self.year = year\n",
    "\n",
    "    def start_engine(self):\n",
    "        print(f\"The {self.year} {self.color} {self.model}'s engine is running.\")\n",
    "\n",
    "# Creating instances (objects) of the Car class\n",
    "car1 = Car(\"Blue\", \"Toyota\", 2022)\n",
    "car2 = Car(\"Red\", \"Ford\", 2021)\n",
    "\n",
    "# Accessing object attributes\n",
    "print(f\"Car 1: {car1.year} {car1.color} {car1.model}\")\n",
    "print(f\"Car 2: {car2.year} {car2.color} {car2.model}\")\n",
    "\n",
    "# Calling object methods\n",
    "car1.start_engine()\n",
    "car2.start_engine()\n",
    "##car is class, Toyota and Ford is object"
   ]
  },
  {
   "cell_type": "markdown",
   "id": "31e8e052",
   "metadata": {},
   "source": [
    "# 4 What are attributes and methods in a class?"
   ]
  },
  {
   "cell_type": "raw",
   "id": "4a7b6e65",
   "metadata": {},
   "source": [
    "attributes:Attributes are variables that store data in class.\n",
    "\n",
    "example\n",
    "class Car:\n",
    "    def __init__(self, color, model, year):\n",
    "        self.color = color  # Attribute\n",
    "        self.model = model  # Attribute\n",
    "        self.year = year    # Attribute\n"
   ]
  },
  {
   "cell_type": "raw",
   "id": "1b42475f",
   "metadata": {},
   "source": [
    "Methods are functions that are associated with an object and can operate on its attributes.\n",
    "\n",
    "example\n",
    "class Car:\n",
    "    def __init__(self, color, model, year):\n",
    "        self.color = color\n",
    "        self.model = model\n",
    "        self.year = year\n",
    "\n",
    "    def start_engine(self):  # Method\n",
    "        print(f\"The {self.year} {self.color} {self.model}'s engine is running.\")\n"
   ]
  },
  {
   "cell_type": "markdown",
   "id": "dd61eb22",
   "metadata": {},
   "source": [
    "# 5 What is the difference between class variables and instance variables in Python?"
   ]
  },
  {
   "cell_type": "raw",
   "id": "e37f25d0",
   "metadata": {},
   "source": [
    "Class Variables:\n",
    "\n",
    "Class variables are shared among all instances of a class.\n",
    "They are defined at the class level but outside of any methods.\n",
    "Class variables are the same for every instance of the class.\n",
    "They are typically used for attributes that are common to all instances, and modifying the class variable affects all instances of the class.\n",
    "\n",
    "Instance Variables:\n",
    "\n",
    "Instance variables are specific to each instance of a class.\n",
    "They are defined inside the class methods, typically within the constructor method (__init__ in Python).\n",
    "Each instance of the class has its own copy of instance variables.\n",
    "Instance variables represent the unique characteristics or state of each object created from the class."
   ]
  },
  {
   "cell_type": "code",
   "execution_count": 7,
   "id": "20293c78",
   "metadata": {},
   "outputs": [],
   "source": [
    "class Car:\n",
    "    # Class variable\n",
    "    total_cars = 0\n",
    "\n",
    "    def __init__(self, color, model, year):\n",
    "        # Instance variables\n",
    "        self.color = color\n",
    "        self.model = model\n",
    "        self.year = year\n",
    "        # Incrementing the class variable when a new instance is created\n",
    "        Car.total_cars += 1\n",
    "\n",
    "        \n",
    "class Car:\n",
    "    def __init__(self, color, model, year):\n",
    "        # Instance variables\n",
    "        self.color = color\n",
    "        self.model = model\n",
    "        self.year = year\n"
   ]
  },
  {
   "cell_type": "markdown",
   "id": "b1d1baba",
   "metadata": {},
   "source": [
    "# 6. What is the purpose of the self parameter in Python class methods?"
   ]
  },
  {
   "cell_type": "markdown",
   "id": "c1961361",
   "metadata": {},
   "source": [
    "The purpose of the <b>self</b> parameter in Python class methods is to represent the instance of the class, allowing access to its attributes and methods within the class."
   ]
  },
  {
   "cell_type": "markdown",
   "id": "97aeb773",
   "metadata": {},
   "source": [
    "# 7. For a library management system, you have to design the \"Book\" class with OOP\n",
    "<h3><pre>principles in mind. The “Book” class will have following attributes:\n",
    "a. title: Represents the title of the book.\n",
    "b. author: Represents the author(s) of the book.\n",
    "c. isbn: Represents the ISBN (International Standard Book Number) of the book.\n",
    "d. publication_year: Represents the year of publication of the book.\n",
    "e. available_copies: Represents the number of copies available for checkout.<br><br>\n",
    "The class will also include the following methods:\n",
    "a. check_out(self): Decrements the available copies by one if there are copies\n",
    "available for checkout.\n",
    "b. return_book(self): Increments the available copies by one when a book is\n",
    "returned.\n",
    "c. display_book_info(self): Displays the information about the book, including its\n",
    "attributes and the number of available copies.</pre><h3>"
   ]
  },
  {
   "cell_type": "code",
   "execution_count": 8,
   "id": "0b4fefd6",
   "metadata": {},
   "outputs": [
    {
     "name": "stdout",
     "output_type": "stream",
     "text": [
      "Book Information:\n",
      "Title: The Great Gatsby\n",
      "Author(s): F. Scott Fitzgerald\n",
      "ISBN: 978-3-16-148410-0\n",
      "Publication Year: 1925\n",
      "Available Copies: 5\n",
      "Book 'The Great Gatsby' checked out successfully.\n",
      "Book Information:\n",
      "Title: The Great Gatsby\n",
      "Author(s): F. Scott Fitzgerald\n",
      "ISBN: 978-3-16-148410-0\n",
      "Publication Year: 1925\n",
      "Available Copies: 4\n",
      "Book 'The Great Gatsby' returned successfully.\n",
      "Book Information:\n",
      "Title: The Great Gatsby\n",
      "Author(s): F. Scott Fitzgerald\n",
      "ISBN: 978-3-16-148410-0\n",
      "Publication Year: 1925\n",
      "Available Copies: 5\n"
     ]
    }
   ],
   "source": [
    "class Book:\n",
    "    def __init__(self, title, author, isbn, publication_year, available_copies):\n",
    "        self.title = title\n",
    "        self.author = author\n",
    "        self.isbn = isbn\n",
    "        self.publication_year = publication_year\n",
    "        self.available_copies = available_copies\n",
    "\n",
    "    def check_out(self):\n",
    "        if self.available_copies > 0:\n",
    "            self.available_copies -= 1\n",
    "            print(f\"Book '{self.title}' checked out successfully.\")\n",
    "        else:\n",
    "            print(f\"Sorry, '{self.title}' is currently not available for checkout.\")\n",
    "\n",
    "    def return_book(self):\n",
    "        self.available_copies += 1\n",
    "        print(f\"Book '{self.title}' returned successfully.\")\n",
    "\n",
    "    def display_book_info(self):\n",
    "        print(\"Book Information:\")\n",
    "        print(f\"Title: {self.title}\")\n",
    "        print(f\"Author(s): {self.author}\")\n",
    "        print(f\"ISBN: {self.isbn}\")\n",
    "        print(f\"Publication Year: {self.publication_year}\")\n",
    "        print(f\"Available Copies: {self.available_copies}\")\n",
    "\n",
    "# Example usage:\n",
    "book1 = Book(\"The Great Gatsby\", \"F. Scott Fitzgerald\", \"978-3-16-148410-0\", 1925, 5)\n",
    "book1.display_book_info()\n",
    "\n",
    "book1.check_out()\n",
    "book1.display_book_info()\n",
    "\n",
    "book1.return_book()\n",
    "book1.display_book_info()\n"
   ]
  },
  {
   "cell_type": "markdown",
   "id": "dc15c3ad",
   "metadata": {},
   "source": [
    "# For a ticket booking system, you have to design the \"Ticket\" class with OOP\n",
    "principles in mind. The “Ticket” class should have the following attributes:\n",
    "<h3><pre>a. ticket_id: Represents the unique identifier for the ticket.\n",
    "b. event_name: Represents the name of the event.\n",
    "c. event_date: Represents the date of the event.\n",
    "d. venue: Represents the venue of the event.\n",
    "e. seat_number: Represents the seat number associated with the ticket.\n",
    "f. price: Represents the price of the ticket.\n",
    "g. is_reserved: Represents the reservation status of the ticket.\n",
    "The class also includes the following methods:\n",
    "a. reserve_ticket(self): Marks the ticket as reserved if it is not already reserved.\n",
    "b. cancel_reservation(self): Cancels the reservation of the ticket if it is already\n",
    "reserved.\n",
    "c. display_ticket_info(self): Displays the information about the ticket, including its\n",
    "attributes and reservation status.<\\h3><\\pre>"
   ]
  },
  {
   "cell_type": "code",
   "execution_count": 9,
   "id": "786c2efb",
   "metadata": {},
   "outputs": [
    {
     "name": "stdout",
     "output_type": "stream",
     "text": [
      "Ticket Information:\n",
      "Ticket ID: 1\n",
      "Event Name: Concert\n",
      "Event Date: 2023-01-15\n",
      "Venue: City Hall\n",
      "Seat Number: A101\n",
      "Price: $50.0\n",
      "Reservation Status: Not Reserved\n",
      "Ticket 1 for 'Concert' is now reserved.\n",
      "Ticket Information:\n",
      "Ticket ID: 1\n",
      "Event Name: Concert\n",
      "Event Date: 2023-01-15\n",
      "Venue: City Hall\n",
      "Seat Number: A101\n",
      "Price: $50.0\n",
      "Reservation Status: Reserved\n",
      "Reservation for Ticket 1 has been canceled.\n",
      "Ticket Information:\n",
      "Ticket ID: 1\n",
      "Event Name: Concert\n",
      "Event Date: 2023-01-15\n",
      "Venue: City Hall\n",
      "Seat Number: A101\n",
      "Price: $50.0\n",
      "Reservation Status: Not Reserved\n"
     ]
    }
   ],
   "source": [
    "class Ticket:\n",
    "    def __init__(self, ticket_id, event_name, event_date, venue, seat_number, price):\n",
    "        self.ticket_id = ticket_id\n",
    "        self.event_name = event_name\n",
    "        self.event_date = event_date\n",
    "        self.venue = venue\n",
    "        self.seat_number = seat_number\n",
    "        self.price = price\n",
    "        self.is_reserved = False\n",
    "\n",
    "    def reserve_ticket(self):\n",
    "        if not self.is_reserved:\n",
    "            self.is_reserved = True\n",
    "            print(f\"Ticket {self.ticket_id} for '{self.event_name}' is now reserved.\")\n",
    "        else:\n",
    "            print(\"This ticket is already reserved.\")\n",
    "\n",
    "    def cancel_reservation(self):\n",
    "        if self.is_reserved:\n",
    "            self.is_reserved = False\n",
    "            print(f\"Reservation for Ticket {self.ticket_id} has been canceled.\")\n",
    "        else:\n",
    "            print(\"This ticket is not reserved.\")\n",
    "\n",
    "    def display_ticket_info(self):\n",
    "        print(\"Ticket Information:\")\n",
    "        print(f\"Ticket ID: {self.ticket_id}\")\n",
    "        print(f\"Event Name: {self.event_name}\")\n",
    "        print(f\"Event Date: {self.event_date}\")\n",
    "        print(f\"Venue: {self.venue}\")\n",
    "        print(f\"Seat Number: {self.seat_number}\")\n",
    "        print(f\"Price: ${self.price}\")\n",
    "        print(f\"Reservation Status: {'Reserved' if self.is_reserved else 'Not Reserved'}\")\n",
    "\n",
    "# Example usage:\n",
    "ticket1 = Ticket(1, \"Concert\", \"2023-01-15\", \"City Hall\", \"A101\", 50.0)\n",
    "ticket1.display_ticket_info()\n",
    "\n",
    "ticket1.reserve_ticket()\n",
    "ticket1.display_ticket_info()\n",
    "\n",
    "ticket1.cancel_reservation()\n",
    "ticket1.display_ticket_info()\n"
   ]
  },
  {
   "cell_type": "raw",
   "id": "f6fca3f5",
   "metadata": {},
   "source": [
    "9. You are creating a shopping cart for an e-commerce website. Using OOP to model\n",
    "the \"ShoppingCart\" functionality the class should contain following attributes and\n",
    "methods:\n",
    "a. items: Represents the list of items in the shopping cart.\n",
    "The class also includes the following methods:\n",
    "\n",
    "a. add_item(self, item): Adds an item to the shopping cart by appending it to the\n",
    "list of items.\n",
    "b. remove_item(self, item): Removes an item from the shopping cart if it exists in\n",
    "the list.\n",
    "c. view_cart(self): Displays the items currently present in the shopping cart.\n",
    "d. clear_cart(self): Clears all items from the shopping cart by reassigning an\n",
    "empty list to the items attribute."
   ]
  },
  {
   "cell_type": "code",
   "execution_count": 10,
   "id": "8aa20ed4",
   "metadata": {},
   "outputs": [
    {
     "name": "stdout",
     "output_type": "stream",
     "text": [
      "Item 'Product A' added to the shopping cart.\n",
      "Item 'Product B' added to the shopping cart.\n",
      "Shopping Cart Contents:\n",
      "- Product A\n",
      "- Product B\n",
      "Item 'Product A' removed from the shopping cart.\n",
      "Shopping Cart Contents:\n",
      "- Product B\n",
      "Shopping cart cleared.\n",
      "Shopping Cart Contents:\n"
     ]
    }
   ],
   "source": [
    "class ShoppingCart:\n",
    "    def __init__(self):\n",
    "        self.items = []\n",
    "\n",
    "    def add_item(self, item):\n",
    "        self.items.append(item)\n",
    "        print(f\"Item '{item}' added to the shopping cart.\")\n",
    "\n",
    "    def remove_item(self, item):\n",
    "        if item in self.items:\n",
    "            self.items.remove(item)\n",
    "            print(f\"Item '{item}' removed from the shopping cart.\")\n",
    "        else:\n",
    "            print(f\"Item '{item}' not found in the shopping cart.\")\n",
    "\n",
    "    def view_cart(self):\n",
    "        print(\"Shopping Cart Contents:\")\n",
    "        for item in self.items:\n",
    "            print(f\"- {item}\")\n",
    "    \n",
    "    def clear_cart(self):\n",
    "        self.items = []\n",
    "        print(\"Shopping cart cleared.\")\n",
    "\n",
    "# Example usage:\n",
    "shopping_cart = ShoppingCart()\n",
    "\n",
    "shopping_cart.add_item(\"Product A\")\n",
    "shopping_cart.add_item(\"Product B\")\n",
    "shopping_cart.view_cart()\n",
    "\n",
    "shopping_cart.remove_item(\"Product A\")\n",
    "shopping_cart.view_cart()\n",
    "\n",
    "shopping_cart.clear_cart()\n",
    "shopping_cart.view_cart()\n"
   ]
  },
  {
   "cell_type": "raw",
   "id": "06b3895e",
   "metadata": {},
   "source": [
    "10. Imagine a school management system. You have to design the \"Student\" class using\n",
    "OOP concepts.The “Student” class has the following attributes:\n",
    "a. name: Represents the name of the student.\n",
    "b. age: Represents the age of the student.\n",
    "c. grade: Represents the grade or class of the student.\n",
    "d. student_id: Represents the unique identifier for the student.\n",
    "e. attendance: Represents the attendance record of the student.\n",
    "The class should also include the following methods:\n",
    "a. update_attendance(self, date, status): Updates the attendance record of the\n",
    "student for a given date with the provided status (e.g., present or absent).\n",
    "b. get_attendance(self): Returns the attendance record of the student.\n",
    "c. get_average_attendance(self): Calculates and returns the average\n",
    "attendance percentage of the student based on their attendance record."
   ]
  },
  {
   "cell_type": "code",
   "execution_count": 12,
   "id": "529409e2",
   "metadata": {},
   "outputs": [
    {
     "name": "stdout",
     "output_type": "stream",
     "text": [
      "Attendance updated for Alice on 2023-01-10. Status: Present\n",
      "Attendance updated for Alice on 2023-01-12. Status: Absent\n",
      "Attendance updated for Alice on 2023-01-15. Status: Present\n",
      "Attendance updated for Alice on 2023-01-19. Status: Present\n",
      "Attendance Record: {'2023-01-10': 'Present', '2023-01-12': 'Absent', '2023-01-15': 'Present', '2023-01-19': 'Present'}\n",
      "Average Attendance: 75.00%\n"
     ]
    }
   ],
   "source": [
    "class Student:\n",
    "    def __init__(self, name, age, grade, student_id):\n",
    "        self.name = name\n",
    "        self.age = age\n",
    "        self.grade = grade\n",
    "        self.student_id = student_id\n",
    "        self.attendance = {}\n",
    "\n",
    "    def update_attendance(self, date, status):\n",
    "        # Update the attendance record for the given date with the provided status\n",
    "        self.attendance[date] = status\n",
    "        print(f\"Attendance updated for {self.name} on {date}. Status: {status}\")\n",
    "\n",
    "    def get_attendance(self):\n",
    "        # Return the entire attendance record\n",
    "        return self.attendance\n",
    "\n",
    "    def get_average_attendance(self):\n",
    "        # Calculate and return the average attendance percentage\n",
    "        if not self.attendance:\n",
    "            return 0.0\n",
    "\n",
    "        total_days = len(self.attendance)\n",
    "        present_days = sum(1 for status in self.attendance.values() if status.lower() == 'present')\n",
    "        average_percentage = (present_days / total_days) * 100\n",
    "\n",
    "        return average_percentage\n",
    "\n",
    "# Example usage:\n",
    "student1 = Student(\"Alice\", 15, 10, \"S12345\")\n",
    "\n",
    "student1.update_attendance(\"2023-01-10\", \"Present\")\n",
    "student1.update_attendance(\"2023-01-12\", \"Absent\")\n",
    "student1.update_attendance(\"2023-01-15\", \"Present\")\n",
    "student1.update_attendance(\"2023-01-19\", \"Present\")\n",
    "\n",
    "print(\"Attendance Record:\", student1.get_attendance())\n",
    "print(f\"Average Attendance: {student1.get_average_attendance():.2f}%\")\n"
   ]
  },
  {
   "cell_type": "code",
   "execution_count": null,
   "id": "c7c48579",
   "metadata": {},
   "outputs": [],
   "source": []
  }
 ],
 "metadata": {
  "kernelspec": {
   "display_name": "Python 3 (ipykernel)",
   "language": "python",
   "name": "python3"
  },
  "language_info": {
   "codemirror_mode": {
    "name": "ipython",
    "version": 3
   },
   "file_extension": ".py",
   "mimetype": "text/x-python",
   "name": "python",
   "nbconvert_exporter": "python",
   "pygments_lexer": "ipython3",
   "version": "3.11.3"
  }
 },
 "nbformat": 4,
 "nbformat_minor": 5
}
