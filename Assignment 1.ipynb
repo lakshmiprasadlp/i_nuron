{
 "cells": [
  {
   "cell_type": "markdown",
   "id": "b0d6ec39",
   "metadata": {},
   "source": [
    "# 1. In the below elements which of them are values or an expression? eg:- values can be integer or string and expressions will be mathematical operators."
   ]
  },
  {
   "cell_type": "raw",
   "id": "f210f649",
   "metadata": {},
   "source": [
    "*   multiplacation\n",
    "\"hello\" string\n",
    "-87.8  flote\n",
    "- substracation\n",
    "/ division\n",
    "+ addatation\n",
    "6 int"
   ]
  },
  {
   "cell_type": "markdown",
   "id": "d94b0416",
   "metadata": {},
   "source": [
    "# 2. What is the difference between string and variable?"
   ]
  },
  {
   "cell_type": "raw",
   "id": "59e43c32",
   "metadata": {},
   "source": [
    "String:\n",
    "\n",
    "A string is a data type used to represent text in programming.\n",
    "It is a sequence of characters, such as letters, numbers, and symbols, enclosed within single (' '), double (\" \"), or triple (''' ''' or \"\"\" \"\"\") quotes.\n",
    "Examples of strings: \"Hello, World!\", '12345', \"Programming is fun\".\n",
    "Strings can be manipulated using various string operations and functions."
   ]
  },
  {
   "cell_type": "raw",
   "id": "e1184a31",
   "metadata": {},
   "source": [
    "Variable:\n",
    "\n",
    "A variable is a named storage location in a program that holds a value or a reference to an object.\n",
    "It is used to store and manage data in a program.\n",
    "The data type of a variable can be dynamic, meaning it can change during the execution of a program.\n",
    "Variables are used to store different types of data, including strings."
   ]
  },
  {
   "cell_type": "markdown",
   "id": "8efe8de4",
   "metadata": {},
   "source": [
    "# 3. Describe three different data types."
   ]
  },
  {
   "cell_type": "raw",
   "id": "23f193c2",
   "metadata": {},
   "source": [
    "Python supports various data types that allow you to represent and manipulate different kinds of data in your programs. Here are descriptions of three common data types in Python:\n",
    "\n",
    "1. **Integer (`int`):**\n",
    "   - Integers represent whole numbers without any decimal points.\n",
    "   - Examples: `0`, `-10`, `42`, `1000`.\n",
    "   - Integer arithmetic in Python follows typical mathematical rules.\n",
    "\n",
    "2. **Floating-point (`float`):**\n",
    "   - Floating-point numbers represent real numbers and can have decimal points.\n",
    "   - Examples: `3.14`, `0.5`, `-2.0`, `100.25`.\n",
    "   - Floating-point arithmetic may have some precision issues due to the nature of how floating-point numbers are represented in a computer.\n",
    "   \n",
    "3. **String (`str`):**\n",
    "   - Strings represent sequences of characters, such as text.\n",
    "   - Examples: `\"Hello\"`, `'Python'`, `\"123\"`, `'Special Characters: !@#$'`.\n",
    "   - Strings are immutable in Python, meaning their values cannot be changed after creation.\n",
    "   \n",
    "- **Boolean (`bool`):**\n",
    "  - Represents the truth values `True` or `False`.\n",
    "  - Often used in conditional statements and logical operations.\n",
    "\n",
    " \n",
    "- **List:**\n",
    "  - Represents an ordered, mutable collection of elements.\n",
    "  - Elements can be of different data types.\n",
    "\n",
    "- **Tuple:**\n",
    "  - Similar to a list but immutable once created.\n",
    "  - Used for grouping related data.\n",
    "\n",
    "\n",
    "- **Dictionary (`dict`):**\n",
    "  - Represents an unordered collection of key-value pairs.\n",
    "  - Allows fast lookup of values based on keys.\n"
   ]
  },
  {
   "cell_type": "markdown",
   "id": "3521db91",
   "metadata": {},
   "source": []
  },
  {
   "cell_type": "markdown",
   "id": "dad6fd9a",
   "metadata": {},
   "source": [
    "# 4. What is an expression made up of? What do all expressions do?"
   ]
  },
  {
   "cell_type": "markdown",
   "id": "58152d77",
   "metadata": {},
   "source": [
    "\n",
    "1. **Operands:**\n",
    "   - Operands are the values or variables involved in an expression.\n",
    "   - Examples of operands:\n",
    "     - Literal values: `5`, `3.14`, `'Hello'`\n",
    "     - Variables: `x`, `y`, `result`\n",
    "     - Function calls: `len(\"Python\")`\n",
    "\n",
    "2. **Operators:**\n",
    "   - Operators are symbols or keywords that perform operations on operands.\n",
    "   - Examples of operators:\n",
    "     - Arithmetic operators: `+`, `-`, `*`, `/`, `%`\n",
    "     - Comparison operators: `==`, `!=`, `<`, `>`\n",
    "     - Logical operators: `and`, `or`, `not`\n",
    "     - Assignment operators: `=`, `+=`, `-=`, `*=`, `/=`\n",
    "     - Bitwise operators: `&`, `|`, `^`, `<<`, `>>`\n",
    "\n",
    "3. **Combination:**\n",
    "   - Expressions are formed by combining operands and operators in a meaningful way.\n",
    "   - Examples of expressions:\n",
    "     - `5 + 3`\n",
    "     - `x * 2`\n",
    "     - `len(\"Python\") > 3`\n",
    "     - `y = x + 1`\n",
    "\n"
   ]
  },
  {
   "cell_type": "markdown",
   "id": "b49a6039",
   "metadata": {},
   "source": [
    "# 5. This assignment statements, like spam = 10. What is the difference between an expression and a statement?"
   ]
  },
  {
   "cell_type": "raw",
   "id": "ab0199d3",
   "metadata": {},
   "source": [
    "\n",
    "In programming, expressions and statements are two fundamental concepts, but they serve different purposes:\n",
    "\n",
    "Expression:\n",
    "\n",
    "An expression is a combination of values (operands) and operators that can be evaluated to produce a result.\n",
    "It can be as simple as a single value or as complex as a combination of multiple operations.\n",
    "Expressions always return a value.\n",
    "Examples:\n",
    "5 + 3 is an expression that evaluates to 8.\n",
    "x * 2 is an expression that depends on the value of variable x.\n",
    "len(\"Python\") is an expression that returns the length of the string.\n",
    "python\n",
    "Copy code\n",
    "result = 5 + 3   # Expression on the right side, evaluates to 8\n",
    "Statement:\n",
    "\n",
    "A statement is a complete line of code that performs an action. It can include expressions, but it doesn't necessarily have to.\n",
    "Statements are typically instructions that tell the computer to do something.\n",
    "Statements may or may not return a value.\n",
    "Examples:\n",
    "Assignment statement: spam = 10 assigns the value 10 to the variable spam.\n",
    "Conditional statement: if x > 0: print(\"Positive\") is a statement that checks a condition and prints a message.\n",
    "python\n",
    "Copy code\n",
    "spam = 10   # Assignment statement\n",
    "Difference:\n",
    "\n",
    "An expression always returns a value, and its primary purpose is to compute and produce a result.\n",
    "A statement, on the other hand, is an instruction that may or may not produce a value. It often performs an action, such as assigning a value to a variable or executing a block of code.\n",
    "In the example spam = 10:\n",
    "\n",
    "10 is an expression that evaluates to the value 10.\n",
    "spam = 10 is a statement that assigns the value 10 to the variable spam.\n",
    "It's common for statements to include expressions, but not all statements are expressions. Understanding this distinction is crucial when working with different programming constructs and designing code."
   ]
  },
  {
   "cell_type": "markdown",
   "id": "20a38a81",
   "metadata": {},
   "source": [
    "# 6. After running the following code, what does the variable bacon contain?\n",
    "bacon = 22\n",
    "bacon + 1"
   ]
  },
  {
   "cell_type": "code",
   "execution_count": 1,
   "id": "ecb95276",
   "metadata": {},
   "outputs": [
    {
     "data": {
      "text/plain": [
       "23"
      ]
     },
     "execution_count": 1,
     "metadata": {},
     "output_type": "execute_result"
    }
   ],
   "source": [
    "bacon=22\n",
    "bacon+1"
   ]
  },
  {
   "cell_type": "markdown",
   "id": "700c73f1",
   "metadata": {},
   "source": [
    "# 7. What should the values of the following two terms be?\n",
    "&#39;spam&#39; + &#39;spamspam&#39;\n",
    "&#39;spam&#39; * 3"
   ]
  },
  {
   "cell_type": "code",
   "execution_count": 2,
   "id": "6fda8a83",
   "metadata": {},
   "outputs": [
    {
     "data": {
      "text/plain": [
       "'spamspamspam'"
      ]
     },
     "execution_count": 2,
     "metadata": {},
     "output_type": "execute_result"
    }
   ],
   "source": [
    "\"spam\" + \"spamspam\"\n",
    "\"spam\" * 3"
   ]
  },
  {
   "cell_type": "markdown",
   "id": "a940a3de",
   "metadata": {},
   "source": [
    "# 8. Why is eggs a valid variable name while 100 is invalid?"
   ]
  },
  {
   "cell_type": "code",
   "execution_count": 3,
   "id": "c468edd4",
   "metadata": {},
   "outputs": [],
   "source": [
    "#varabial name should not start with number"
   ]
  },
  {
   "cell_type": "markdown",
   "id": "5aa2134e",
   "metadata": {},
   "source": [
    "# 9. What three functions can be used to get the integer, floating-point number, or string version of a value?"
   ]
  },
  {
   "cell_type": "raw",
   "id": "2371ffff",
   "metadata": {},
   "source": [
    "int()\n",
    "float()\n",
    "str()"
   ]
  },
  {
   "cell_type": "raw",
   "id": "fa317b50",
   "metadata": {},
   "source": [
    "# 10. Why does this expression cause an error? How can you fix it?\n",
    "&#39;I have eaten &#39; + 99 + &#39; burritos.&#39;"
   ]
  },
  {
   "cell_type": "code",
   "execution_count": 5,
   "id": "059a24f0",
   "metadata": {},
   "outputs": [
    {
     "ename": "TypeError",
     "evalue": "can only concatenate str (not \"int\") to str",
     "output_type": "error",
     "traceback": [
      "\u001b[1;31m---------------------------------------------------------------------------\u001b[0m",
      "\u001b[1;31mTypeError\u001b[0m                                 Traceback (most recent call last)",
      "Cell \u001b[1;32mIn[5], line 1\u001b[0m\n\u001b[1;32m----> 1\u001b[0m \u001b[38;5;124m\"\u001b[39m\u001b[38;5;124mI have eaten\u001b[39m\u001b[38;5;124m\"\u001b[39m \u001b[38;5;241m+\u001b[39m \u001b[38;5;241m99\u001b[39m \u001b[38;5;241m+\u001b[39m \u001b[38;5;124m\"\u001b[39m\u001b[38;5;124mburritos.\u001b[39m\u001b[38;5;124m\"\u001b[39m\n",
      "\u001b[1;31mTypeError\u001b[0m: can only concatenate str (not \"int\") to str"
     ]
    }
   ],
   "source": [
    "\"I have eaten\" + 99 + \"burritos.\""
   ]
  },
  {
   "cell_type": "code",
   "execution_count": 7,
   "id": "43dddc39",
   "metadata": {},
   "outputs": [
    {
     "data": {
      "text/plain": [
       "'I have eaten 99 burritos.'"
      ]
     },
     "execution_count": 7,
     "metadata": {},
     "output_type": "execute_result"
    }
   ],
   "source": [
    "\"I have eaten\" + ' 99 ' + \"burritos.\""
   ]
  },
  {
   "cell_type": "code",
   "execution_count": null,
   "id": "a025fba2",
   "metadata": {},
   "outputs": [],
   "source": []
  }
 ],
 "metadata": {
  "kernelspec": {
   "display_name": "Python 3 (ipykernel)",
   "language": "python",
   "name": "python3"
  },
  "language_info": {
   "codemirror_mode": {
    "name": "ipython",
    "version": 3
   },
   "file_extension": ".py",
   "mimetype": "text/x-python",
   "name": "python",
   "nbconvert_exporter": "python",
   "pygments_lexer": "ipython3",
   "version": "3.11.3"
  }
 },
 "nbformat": 4,
 "nbformat_minor": 5
}
